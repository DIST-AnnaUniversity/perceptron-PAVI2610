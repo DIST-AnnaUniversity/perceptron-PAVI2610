{
 "cells": [
  {
   "cell_type": "code",
   "execution_count": 7,
   "id": "8cfb81fb",
   "metadata": {},
   "outputs": [
    {
     "name": "stdout",
     "output_type": "stream",
     "text": [
      "Inputs [[ 1.   1. ]\n",
      " [-0.5  1. ]\n",
      " [ 3.   1. ]\n",
      " [-2.   1. ]]\n",
      "Teacher values [ 1 -1  1 -1]\n",
      "initial values of weights [-2.5, 1.75]\n",
      "Training\n",
      "----------\n",
      "1 0 [-1.5   2.75]\n",
      "1 1 [-1.    1.75]\n",
      "1 2 [2.   2.75]\n",
      "1 3 [2.   2.75]\n",
      "Final sets of weights:  [2.   2.75]\n",
      "Testing\n",
      "--------\n",
      "Final output:  [1, -1]\n"
     ]
    }
   ],
   "source": [
    "#This program is the implementation of example program of perceptron algorithm from Zurada's Introduction to Artificial Neural networks\n",
    "\n",
    "import numpy as np\n",
    "#/*----------------Function for perceptron algorithm --------------*/\n",
    "def perceptron(c,X,d,w,iter):\n",
    "    for n in range(1,iter):# Number of iterations  = 7\n",
    "        for i, x in enumerate(X):\n",
    "            net = np.dot(X[i],w)\n",
    "            if net > 0:\n",
    "                out = 1\n",
    "            else:\n",
    "                out = -1\n",
    "            r = c*(1/2)*(d[i] - out)\n",
    "            delta_w = r*x\n",
    "            w = delta_w+w\n",
    "            print (n, i, w)\n",
    "    return w\n",
    "#/*---------------------Function for testing the perceptron-----------*/\n",
    "\n",
    "def test_perceptron(final_out,X,w):\n",
    "    for i,x in enumerate(X):\n",
    "        net = np.dot(X[i],w)\n",
    "        if net>0:\n",
    "            out = 1\n",
    "        else:\n",
    "            out = -1\n",
    "        final_out = final_out+[out]\n",
    "    return final_out\n",
    "\n",
    "#*---------------Training---------------------------------*/\n",
    "X = np.array([[1,1],[-0.5,1],[3,1],[-2,1],])\n",
    "new_input = np.array([[7,1],[-7,1],])#feed new inputs and see\n",
    "print (\"Inputs\", X)\n",
    "d = np.array([1,-1,1,-1])\n",
    "print (\"Teacher values\", d)\n",
    "w= ([-2.5,1.75])\n",
    "print (\"initial values of weights\", w)\n",
    "c = 1\n",
    "iterations =2\n",
    "print (\"Training\")\n",
    "print (\"----------\")\n",
    "final_weight = perceptron(c,X,d,w,iterations)\n",
    "print (\"Final sets of weights: \", final_weight)\n",
    "#*-----------------Testing-------------------------------*/\n",
    "final_out = []\n",
    "print (\"Testing\")\n",
    "print (\"--------\")\n",
    "final_output = test_perceptron(final_out,new_input,final_weight)\n",
    "print (\"Final output: \", final_output)\n",
    "#print (\"Original Teacher values\", d)"
   ]
  },
  {
   "cell_type": "code",
   "execution_count": null,
   "id": "1183ac1d",
   "metadata": {},
   "outputs": [],
   "source": [
    "\n",
    "                \n",
    "                \n"
   ]
  }
 ],
 "metadata": {
  "kernelspec": {
   "display_name": "Python 3 (ipykernel)",
   "language": "python",
   "name": "python3"
  },
  "language_info": {
   "codemirror_mode": {
    "name": "ipython",
    "version": 3
   },
   "file_extension": ".py",
   "mimetype": "text/x-python",
   "name": "python",
   "nbconvert_exporter": "python",
   "pygments_lexer": "ipython3",
   "version": "3.9.12"
  }
 },
 "nbformat": 4,
 "nbformat_minor": 5
}
